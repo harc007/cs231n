{
 "cells": [
  {
   "cell_type": "markdown",
   "metadata": {},
   "source": [
    "# Softmax exercise\n",
    "\n",
    "*Complete and hand in this completed worksheet (including its outputs and any supporting code outside of the worksheet) with your assignment submission. For more details see the [assignments page](http://vision.stanford.edu/teaching/cs231n/assignments.html) on the course website.*\n",
    "\n",
    "This exercise is analogous to the SVM exercise. You will:\n",
    "\n",
    "- implement a fully-vectorized **loss function** for the Softmax classifier\n",
    "- implement the fully-vectorized expression for its **analytic gradient**\n",
    "- **check your implementation** with numerical gradient\n",
    "- use a validation set to **tune the learning rate and regularization** strength\n",
    "- **optimize** the loss function with **SGD**\n",
    "- **visualize** the final learned weights\n"
   ]
  },
  {
   "cell_type": "code",
   "execution_count": 1,
   "metadata": {
    "collapsed": true
   },
   "outputs": [],
   "source": [
    "import random\n",
    "import numpy as np\n",
    "from cs231n.data_utils import load_CIFAR10\n",
    "import matplotlib.pyplot as plt\n",
    "%matplotlib inline\n",
    "plt.rcParams['figure.figsize'] = (10.0, 8.0) # set default size of plots\n",
    "plt.rcParams['image.interpolation'] = 'nearest'\n",
    "plt.rcParams['image.cmap'] = 'gray'\n",
    "\n",
    "# for auto-reloading extenrnal modules\n",
    "# see http://stackoverflow.com/questions/1907993/autoreload-of-modules-in-ipython\n",
    "%load_ext autoreload\n",
    "%autoreload 2"
   ]
  },
  {
   "cell_type": "code",
   "execution_count": 2,
   "metadata": {},
   "outputs": [
    {
     "name": "stdout",
     "output_type": "stream",
     "text": [
      "Train data shape:  (49000, 3073)\n",
      "Train labels shape:  (49000,)\n",
      "Validation data shape:  (1000, 3073)\n",
      "Validation labels shape:  (1000,)\n",
      "Test data shape:  (1000, 3073)\n",
      "Test labels shape:  (1000,)\n",
      "dev data shape:  (500, 3073)\n",
      "dev labels shape:  (500,)\n"
     ]
    }
   ],
   "source": [
    "def get_CIFAR10_data(num_training=49000, num_validation=1000, num_test=1000, num_dev=500):\n",
    "  \"\"\"\n",
    "  Load the CIFAR-10 dataset from disk and perform preprocessing to prepare\n",
    "  it for the linear classifier. These are the same steps as we used for the\n",
    "  SVM, but condensed to a single function.  \n",
    "  \"\"\"\n",
    "  # Load the raw CIFAR-10 data\n",
    "  cifar10_dir = 'cs231n/datasets/cifar-10-batches-py'\n",
    "  X_train, y_train, X_test, y_test = load_CIFAR10(cifar10_dir)\n",
    "  \n",
    "  # subsample the data\n",
    "  mask = range(num_training, num_training + num_validation)\n",
    "  X_val = X_train[mask]\n",
    "  y_val = y_train[mask]\n",
    "  mask = range(num_training)\n",
    "  X_train = X_train[mask]\n",
    "  y_train = y_train[mask]\n",
    "  mask = range(num_test)\n",
    "  X_test = X_test[mask]\n",
    "  y_test = y_test[mask]\n",
    "  mask = np.random.choice(num_training, num_dev, replace=False)\n",
    "  X_dev = X_train[mask]\n",
    "  y_dev = y_train[mask]\n",
    "  \n",
    "  # Preprocessing: reshape the image data into rows\n",
    "  X_train = np.reshape(X_train, (X_train.shape[0], -1))\n",
    "  X_val = np.reshape(X_val, (X_val.shape[0], -1))\n",
    "  X_test = np.reshape(X_test, (X_test.shape[0], -1))\n",
    "  X_dev = np.reshape(X_dev, (X_dev.shape[0], -1))\n",
    "  \n",
    "  # Normalize the data: subtract the mean image\n",
    "  mean_image = np.mean(X_train, axis = 0)\n",
    "  X_train -= mean_image\n",
    "  X_val -= mean_image\n",
    "  X_test -= mean_image\n",
    "  X_dev -= mean_image\n",
    "  \n",
    "  # add bias dimension and transform into columns\n",
    "  X_train = np.hstack([X_train, np.ones((X_train.shape[0], 1))])\n",
    "  X_val = np.hstack([X_val, np.ones((X_val.shape[0], 1))])\n",
    "  X_test = np.hstack([X_test, np.ones((X_test.shape[0], 1))])\n",
    "  X_dev = np.hstack([X_dev, np.ones((X_dev.shape[0], 1))])\n",
    "  \n",
    "  return X_train, y_train, X_val, y_val, X_test, y_test, X_dev, y_dev\n",
    "\n",
    "\n",
    "# Invoke the above function to get our data.\n",
    "X_train, y_train, X_val, y_val, X_test, y_test, X_dev, y_dev = get_CIFAR10_data()\n",
    "print 'Train data shape: ', X_train.shape\n",
    "print 'Train labels shape: ', y_train.shape\n",
    "print 'Validation data shape: ', X_val.shape\n",
    "print 'Validation labels shape: ', y_val.shape\n",
    "print 'Test data shape: ', X_test.shape\n",
    "print 'Test labels shape: ', y_test.shape\n",
    "print 'dev data shape: ', X_dev.shape\n",
    "print 'dev labels shape: ', y_dev.shape"
   ]
  },
  {
   "cell_type": "markdown",
   "metadata": {},
   "source": [
    "## Softmax Classifier\n",
    "\n",
    "Your code for this section will all be written inside **cs231n/classifiers/softmax.py**. \n"
   ]
  },
  {
   "cell_type": "code",
   "execution_count": 7,
   "metadata": {},
   "outputs": [
    {
     "name": "stdout",
     "output_type": "stream",
     "text": [
      "loss: 2.331030\n",
      "sanity check: 2.302585\n"
     ]
    }
   ],
   "source": [
    "# First implement the naive softmax loss function with nested loops.\n",
    "# Open the file cs231n/classifiers/softmax.py and implement the\n",
    "# softmax_loss_naive function.\n",
    "\n",
    "from cs231n.classifiers.softmax import softmax_loss_naive\n",
    "import time\n",
    "\n",
    "# Generate a random softmax weight matrix and use it to compute the loss.\n",
    "W = np.random.randn(3073, 10) * 0.0001\n",
    "loss, grad = softmax_loss_naive(W, X_dev, y_dev, 0.0)\n",
    "\n",
    "# As a rough sanity check, our loss should be something close to -log(0.1).\n",
    "print 'loss: %f' % loss\n",
    "print 'sanity check: %f' % (-np.log(0.1))"
   ]
  },
  {
   "cell_type": "markdown",
   "metadata": {},
   "source": [
    "## Inline Question 1:\n",
    "Why do we expect our loss to be close to -log(0.1)? Explain briefly.**\n",
    "\n",
    "**Your answer:** *Fill this in*\n"
   ]
  },
  {
   "cell_type": "code",
   "execution_count": 8,
   "metadata": {},
   "outputs": [
    {
     "name": "stdout",
     "output_type": "stream",
     "text": [
      "numerical: 2.206473 analytic: 2.206473, relative error: 6.813643e-10\n",
      "numerical: -1.219868 analytic: -1.219868, relative error: 1.114463e-08\n",
      "numerical: 1.996049 analytic: 1.996049, relative error: 4.825741e-08\n",
      "numerical: -1.271989 analytic: -1.271989, relative error: 6.688060e-09\n",
      "numerical: 0.252667 analytic: 0.252667, relative error: 1.416608e-07\n",
      "numerical: -0.350731 analytic: -0.350731, relative error: 7.025132e-08\n",
      "numerical: -2.645963 analytic: -2.645963, relative error: 1.028485e-08\n",
      "numerical: 0.004139 analytic: 0.004139, relative error: 2.874760e-10\n",
      "numerical: 2.902749 analytic: 2.902749, relative error: 4.974858e-08\n",
      "numerical: -0.475364 analytic: -0.475364, relative error: 1.788777e-07\n",
      "numerical: 1.069697 analytic: 1.069697, relative error: 4.219028e-08\n",
      "numerical: -1.746171 analytic: -1.746171, relative error: 1.934228e-08\n",
      "numerical: -3.158478 analytic: -3.158478, relative error: 2.656440e-08\n",
      "numerical: -0.766001 analytic: -0.766001, relative error: 2.767584e-08\n",
      "numerical: -0.477777 analytic: -0.477777, relative error: 5.228075e-08\n",
      "numerical: 1.208210 analytic: 1.208210, relative error: 4.107148e-08\n",
      "numerical: -2.630116 analytic: -2.630116, relative error: 1.061108e-08\n",
      "numerical: 5.521781 analytic: 5.521781, relative error: 1.204609e-09\n",
      "numerical: 3.008220 analytic: 3.008219, relative error: 1.942620e-08\n",
      "numerical: -0.692563 analytic: -0.692563, relative error: 6.748036e-08\n"
     ]
    }
   ],
   "source": [
    "# Complete the implementation of softmax_loss_naive and implement a (naive)\n",
    "# version of the gradient that uses nested loops.\n",
    "loss, grad = softmax_loss_naive(W, X_dev, y_dev, 0.0)\n",
    "\n",
    "# As we did for the SVM, use numeric gradient checking as a debugging tool.\n",
    "# The numeric gradient should be close to the analytic gradient.\n",
    "from cs231n.gradient_check import grad_check_sparse\n",
    "f = lambda w: softmax_loss_naive(w, X_dev, y_dev, 0.0)[0]\n",
    "grad_numerical = grad_check_sparse(f, W, grad, 10)\n",
    "\n",
    "# similar to SVM case, do another gradient check with regularization\n",
    "loss, grad = softmax_loss_naive(W, X_dev, y_dev, 1e2)\n",
    "f = lambda w: softmax_loss_naive(w, X_dev, y_dev, 1e2)[0]\n",
    "grad_numerical = grad_check_sparse(f, W, grad, 10)"
   ]
  },
  {
   "cell_type": "code",
   "execution_count": 19,
   "metadata": {},
   "outputs": [
    {
     "name": "stdout",
     "output_type": "stream",
     "text": [
      "naive loss: 2.331030e+00 computed in 0.089757s\n",
      "vectorized loss: 2.331030e+00 computed in 0.026755s\n",
      "Loss difference: 0.000000\n",
      "Gradient difference: 0.000000\n"
     ]
    }
   ],
   "source": [
    "# Now that we have a naive implementation of the softmax loss function and its gradient,\n",
    "# implement a vectorized version in softmax_loss_vectorized.\n",
    "# The two versions should compute the same results, but the vectorized version should be\n",
    "# much faster.\n",
    "tic = time.time()\n",
    "loss_naive, grad_naive = softmax_loss_naive(W, X_dev, y_dev, 0.00001)\n",
    "toc = time.time()\n",
    "print 'naive loss: %e computed in %fs' % (loss_naive, toc - tic)\n",
    "\n",
    "from cs231n.classifiers.softmax import softmax_loss_vectorized\n",
    "tic = time.time()\n",
    "loss_vectorized, grad_vectorized = softmax_loss_vectorized(W, X_dev, y_dev, 0.00001)\n",
    "toc = time.time()\n",
    "print 'vectorized loss: %e computed in %fs' % (loss_vectorized, toc - tic)\n",
    "\n",
    "# As we did for the SVM, we use the Frobenius norm to compare the two versions\n",
    "# of the gradient.\n",
    "grad_difference = np.linalg.norm(grad_naive - grad_vectorized, ord='fro')\n",
    "print 'Loss difference: %f' % np.abs(loss_naive - loss_vectorized)\n",
    "print 'Gradient difference: %f' % grad_difference"
   ]
  },
  {
   "cell_type": "code",
   "execution_count": 20,
   "metadata": {},
   "outputs": [
    {
     "name": "stdout",
     "output_type": "stream",
     "text": [
      "iteration 0 / 2000: loss 764.094268\n",
      "iteration 100 / 2000: loss 760.704734\n",
      "iteration 200 / 2000: loss 759.176854\n",
      "iteration 300 / 2000: loss 757.831969\n",
      "iteration 400 / 2000: loss 756.399419\n",
      "iteration 500 / 2000: loss 755.456188\n",
      "iteration 600 / 2000: loss 754.417658\n",
      "iteration 700 / 2000: loss 753.301075\n",
      "iteration 800 / 2000: loss 752.410784\n",
      "iteration 900 / 2000: loss 751.729353\n",
      "iteration 1000 / 2000: loss 751.089820\n",
      "iteration 1100 / 2000: loss 750.260242\n",
      "iteration 1200 / 2000: loss 749.420953\n",
      "iteration 1300 / 2000: loss 748.770843\n",
      "iteration 1400 / 2000: loss 747.868366\n",
      "iteration 1500 / 2000: loss 747.328025\n",
      "iteration 1600 / 2000: loss 746.932868\n",
      "iteration 1700 / 2000: loss 745.963119\n",
      "iteration 1800 / 2000: loss 745.600078\n",
      "iteration 1900 / 2000: loss 744.984055\n"
     ]
    },
    {
     "name": "stderr",
     "output_type": "stream",
     "text": [
      "/usr/local/lib/python2.7/dist-packages/ipykernel_launcher.py:25: DeprecationWarning: elementwise == comparison failed; this will raise an error in the future.\n",
      "/usr/local/lib/python2.7/dist-packages/ipykernel_launcher.py:26: DeprecationWarning: elementwise == comparison failed; this will raise an error in the future.\n"
     ]
    },
    {
     "name": "stdout",
     "output_type": "stream",
     "text": [
      "iteration 0 / 2000: loss 1529772.890857\n",
      "iteration 100 / 2000: loss 1526307.807527\n",
      "iteration 200 / 2000: loss 1523539.765163\n",
      "iteration 300 / 2000: loss 1521092.723767\n",
      "iteration 400 / 2000: loss 1518896.535581\n",
      "iteration 500 / 2000: loss 1516844.298419\n",
      "iteration 600 / 2000: loss 1514989.026481\n",
      "iteration 700 / 2000: loss 1513219.578632\n",
      "iteration 800 / 2000: loss 1511554.166085\n",
      "iteration 900 / 2000: loss 1509964.925933\n",
      "iteration 1000 / 2000: loss 1508439.835187\n",
      "iteration 1100 / 2000: loss 1506947.389855\n",
      "iteration 1200 / 2000: loss 1505507.464127\n",
      "iteration 1300 / 2000: loss 1504132.961470\n",
      "iteration 1400 / 2000: loss 1502823.935152\n",
      "iteration 1500 / 2000: loss 1501512.646809\n",
      "iteration 1600 / 2000: loss 1500254.030644\n",
      "iteration 1700 / 2000: loss 1499003.106621\n",
      "iteration 1800 / 2000: loss 1497795.218732\n",
      "iteration 1900 / 2000: loss 1496614.169162\n",
      "iteration 0 / 2000: loss 780.182742\n",
      "iteration 100 / 2000: loss 769.133441\n",
      "iteration 200 / 2000: loss 764.655972\n",
      "iteration 300 / 2000: loss 761.206133\n",
      "iteration 400 / 2000: loss 757.999398\n",
      "iteration 500 / 2000: loss 755.525266\n",
      "iteration 600 / 2000: loss 753.069214\n",
      "iteration 700 / 2000: loss 750.653279\n",
      "iteration 800 / 2000: loss 748.528601\n",
      "iteration 900 / 2000: loss 746.917758\n",
      "iteration 1000 / 2000: loss 744.944651\n",
      "iteration 1100 / 2000: loss 743.107515\n",
      "iteration 1200 / 2000: loss 741.637150\n",
      "iteration 1300 / 2000: loss 739.788921\n",
      "iteration 1400 / 2000: loss 738.290030\n",
      "iteration 1500 / 2000: loss 736.773682\n",
      "iteration 1600 / 2000: loss 735.005034\n",
      "iteration 1700 / 2000: loss 733.761123\n",
      "iteration 1800 / 2000: loss 732.391471\n",
      "iteration 1900 / 2000: loss 731.142141\n",
      "iteration 0 / 2000: loss 1546905.359650\n",
      "iteration 100 / 2000: loss 1534184.284797\n",
      "iteration 200 / 2000: loss 1526225.341563\n",
      "iteration 300 / 2000: loss 1519493.914589\n",
      "iteration 400 / 2000: loss 1513604.229331\n",
      "iteration 500 / 2000: loss 1508226.800488\n",
      "iteration 600 / 2000: loss 1503363.220783\n",
      "iteration 700 / 2000: loss 1498825.850073\n",
      "iteration 800 / 2000: loss 1494547.536393\n",
      "iteration 900 / 2000: loss 1490575.233106\n",
      "iteration 1000 / 2000: loss 1486750.017108\n",
      "iteration 1100 / 2000: loss 1483115.467381\n",
      "iteration 1200 / 2000: loss 1479608.304134\n",
      "iteration 1300 / 2000: loss 1476300.557928\n",
      "iteration 1400 / 2000: loss 1473173.923638\n",
      "iteration 1500 / 2000: loss 1470045.222795\n",
      "iteration 1600 / 2000: loss 1467030.419602\n",
      "iteration 1700 / 2000: loss 1464220.214341\n",
      "iteration 1800 / 2000: loss 1461465.427693\n",
      "iteration 1900 / 2000: loss 1458756.490538\n",
      "lr 1.000000e-07 reg 5.000000e+04 train accuracy: 0.000000 val accuracy: 0.000000\n",
      "lr 1.000000e-07 reg 1.000000e+08 train accuracy: 0.000000 val accuracy: 0.000000\n",
      "lr 5.000000e-07 reg 5.000000e+04 train accuracy: 0.000000 val accuracy: 0.000000\n",
      "lr 5.000000e-07 reg 1.000000e+08 train accuracy: 0.000000 val accuracy: 0.000000\n",
      "best validation accuracy achieved during cross-validation: 0.000000\n"
     ]
    }
   ],
   "source": [
    "# Use the validation set to tune hyperparameters (regularization strength and\n",
    "# learning rate). You should experiment with different ranges for the learning\n",
    "# rates and regularization strengths; if you are careful you should be able to\n",
    "# get a classification accuracy of over 0.35 on the validation set.\n",
    "from cs231n.classifiers import Softmax\n",
    "results = {}\n",
    "best_val = -1\n",
    "best_softmax = None\n",
    "learning_rates = [1e-7, 5e-7]\n",
    "regularization_strengths = [5e4, 1e8]\n",
    "\n",
    "################################################################################\n",
    "# TODO:                                                                        #\n",
    "# Use the validation set to set the learning rate and regularization strength. #\n",
    "# This should be identical to the validation that you did for the SVM; save    #\n",
    "# the best trained softmax classifer in best_softmax.                          #\n",
    "################################################################################\n",
    "for lr in learning_rates:\n",
    "    for rs in regularization_strengths:\n",
    "        softmax = Softmax()\n",
    "        softmax.train(X_train, y_train, learning_rate=lr, reg=rs,\n",
    "                          num_iters=2000, verbose=True)\n",
    "        y_train_pred = softmax.predict(X_train)\n",
    "        y_val_pred = softmax.predict(X_val)\n",
    "        train_accuracy = np.mean(y_train == y_train_pred)\n",
    "        val_accuracy = np.mean(y_val == y_val_pred)\n",
    "        if val_accuracy > best_val:\n",
    "            best_val = val_accuracy\n",
    "            best_softmax = softmax\n",
    "            \n",
    "        results[(lr,rs)] = train_accuracy, val_accuracy\n",
    "################################################################################\n",
    "#                              END OF YOUR CODE                                #\n",
    "################################################################################\n",
    "    \n",
    "# Print out results.\n",
    "for lr, reg in sorted(results):\n",
    "    train_accuracy, val_accuracy = results[(lr, reg)]\n",
    "    print 'lr %e reg %e train accuracy: %f val accuracy: %f' % (\n",
    "                lr, reg, train_accuracy, val_accuracy)\n",
    "    \n",
    "print 'best validation accuracy achieved during cross-validation: %f' % best_val"
   ]
  },
  {
   "cell_type": "code",
   "execution_count": 21,
   "metadata": {},
   "outputs": [
    {
     "name": "stdout",
     "output_type": "stream",
     "text": [
      "softmax on raw pixels final test set accuracy: 0.000000\n"
     ]
    },
    {
     "name": "stderr",
     "output_type": "stream",
     "text": [
      "/usr/local/lib/python2.7/dist-packages/ipykernel_launcher.py:4: DeprecationWarning: elementwise == comparison failed; this will raise an error in the future.\n",
      "  after removing the cwd from sys.path.\n"
     ]
    }
   ],
   "source": [
    "# evaluate on test set\n",
    "# Evaluate the best softmax on test set\n",
    "y_test_pred = best_softmax.predict(X_test)\n",
    "test_accuracy = np.mean(y_test == y_test_pred)\n",
    "print 'softmax on raw pixels final test set accuracy: %f' % (test_accuracy, )"
   ]
  },
  {
   "cell_type": "code",
   "execution_count": 22,
   "metadata": {},
   "outputs": [
    {
     "data": {
      "image/png": "[encoded data removed]",
      "text/plain": [
       "<matplotlib.figure.Figure at 0x7fa2b88bfdd0>"
      ]
     },
     "metadata": {},
     "output_type": "display_data"
    }
   ],
   "source": [
    "# Visualize the learned weights for each class\n",
    "w = best_softmax.W[:-1,:] # strip out the bias\n",
    "w = w.reshape(32, 32, 3, 10)\n",
    "\n",
    "w_min, w_max = np.min(w), np.max(w)\n",
    "\n",
    "classes = ['plane', 'car', 'bird', 'cat', 'deer', 'dog', 'frog', 'horse', 'ship', 'truck']\n",
    "for i in xrange(10):\n",
    "  plt.subplot(2, 5, i + 1)\n",
    "  \n",
    "  # Rescale the weights to be between 0 and 255\n",
    "  wimg = 255.0 * (w[:, :, :, i].squeeze() - w_min) / (w_max - w_min)\n",
    "  plt.imshow(wimg.astype('uint8'))\n",
    "  plt.axis('off')\n",
    "  plt.title(classes[i])"
   ]
  }
 ],
 "metadata": {
  "kernelspec": {
   "display_name": "Python 2",
   "language": "python",
   "name": "python2"
  },
  "language_info": {
   "codemirror_mode": {
    "name": "ipython",
    "version": 2
   },
   "file_extension": ".py",
   "mimetype": "text/x-python",
   "name": "python",
   "nbconvert_exporter": "python",
   "pygments_lexer": "ipython2",
   "version": "2.7.12"
  }
 },
 "nbformat": 4,
 "nbformat_minor": 1
}
